{
  "nbformat": 4,
  "nbformat_minor": 0,
  "metadata": {
    "colab": {
      "name": "Final exam code 1.ipynb",
      "private_outputs": true,
      "provenance": [],
      "collapsed_sections": []
    },
    "kernelspec": {
      "name": "python3",
      "display_name": "Python 3"
    },
    "language_info": {
      "name": "python"
    },
    "accelerator": "GPU"
  },
  "cells": [
    {
      "cell_type": "code",
      "execution_count": null,
      "metadata": {
        "id": "1YaR633zHZTS"
      },
      "outputs": [],
      "source": [
        "!python3 code/train.py --seed=0 --trial=1 --kernel_size=5 --epoch=3"
      ]
    },
    {
      "cell_type": "code",
      "source": [
        "!python3 code/test.py  --seed=0 --trial=1 --kernel_size=5 --logdir=temp"
      ],
      "metadata": {
        "id": "yAZtpH00OnhD"
      },
      "execution_count": null,
      "outputs": []
    },
    {
      "cell_type": "code",
      "source": [
        "!python3 code/homo_ensemble.py --kernel_size=5"
      ],
      "metadata": {
        "id": "H1kZ8XJrO6hH"
      },
      "execution_count": null,
      "outputs": []
    },
    {
      "cell_type": "code",
      "source": [
        "# cara menampilkan gambar \n",
        "# Python program to convert\n",
        "# numpy array to image\n",
        "\n",
        "# import required libraries\n",
        "import numpy as np\n",
        "import matplotlib.pyplot as plt\n",
        "from PIL import Image as im\n",
        "\n",
        "# define a main function\n",
        "def main():\n",
        "\n",
        "\t# create a numpy array from scratch\n",
        "\t# using arange function.\n",
        "\t# 1024x720 = 737280 is the amount\n",
        "\t# of pixels.\n",
        "\t# np.uint8 is a data type containing\n",
        "\t# numbers ranging from 0 to 255\n",
        "\t# and no non-negative integers\n",
        "\tarray = np.arange(0, 737280, 1, np.uint8)\n",
        "\t\n",
        "\t# check type of array\n",
        "\tprint(type(array))\n",
        "\t\n",
        "\t# our array will be of width\n",
        "\t# 737280 pixels That means it\n",
        "\t# will be a long dark line\n",
        "\tprint(array.shape)\n",
        "\t\n",
        "\t# Reshape the array into a\n",
        "\t# familiar resoluition\n",
        "\tarray = np.reshape(array, (1024, 720))\n",
        "\t\n",
        "\t# show the shape of the array\n",
        "\tprint(array.shape)\n",
        "\n",
        "\t# show the array\n",
        "\tprint(array)\n",
        "\t\n",
        "\t# creating image object of\n",
        "\t# above array\n",
        "\tdata = im.fromarray(array)\n",
        "\t\n",
        "\t# saving the final output\n",
        "\t# as a PNG file\n",
        "\t#data.save('gfg_dummy_pic.png')\n",
        "\tplt.imshow(data)\n",
        "# function call\n",
        "main()\n"
      ],
      "metadata": {
        "id": "iA8tyiyHPd-z"
      },
      "execution_count": null,
      "outputs": []
    },
    {
      "cell_type": "code",
      "source": [
        "#isi dari gambar yang ditrain pada final exam code 1, gambar diubah dari image ke text dalam bentuk array\n",
        "import gzip\n",
        "f = gzip.open('train-images-idx3-ubyte.gz','r')\n",
        "\n",
        "image_size = 28\n",
        "num_images = 5\n",
        "\n",
        "import numpy as np\n",
        "f.read(16)\n",
        "buf = f.read(image_size * image_size * num_images)\n",
        "data = np.frombuffer(buf, dtype=np.uint8).astype(np.float32)\n",
        "data = data.reshape(num_images, image_size, image_size, 1)\n",
        "\n",
        "import matplotlib.pyplot as plt\n",
        "image = np.asarray(data[2]).squeeze()\n",
        "plt.imshow(image)\n",
        "plt.show()"
      ],
      "metadata": {
        "id": "IIXK3zzDWG-W"
      },
      "execution_count": null,
      "outputs": []
    },
    {
      "cell_type": "code",
      "source": [
        "import gzip\n",
        "f = gzip.open('t10k-images-idx3-ubyte.gz','r')\n",
        "\n",
        "image_size = 28\n",
        "num_images = 5\n",
        "\n",
        "import numpy as np\n",
        "f.read(16)\n",
        "buf = f.read(image_size * image_size * num_images)\n",
        "data = np.frombuffer(buf, dtype=np.uint8).astype(np.float32)\n",
        "data = data.reshape(num_images, image_size, image_size, 1)\n",
        "\n",
        "import matplotlib.pyplot as plt\n",
        "image = np.asarray(data[2]).squeeze()\n",
        "plt.imshow(image)\n",
        "plt.show()"
      ],
      "metadata": {
        "id": "R2FuZM3FhKeo"
      },
      "execution_count": null,
      "outputs": []
    }
  ]
}